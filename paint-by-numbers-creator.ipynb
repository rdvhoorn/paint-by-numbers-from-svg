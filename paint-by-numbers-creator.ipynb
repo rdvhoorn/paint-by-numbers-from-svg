{
 "cells": [
  {
   "cell_type": "code",
   "execution_count": 8,
   "metadata": {},
   "outputs": [],
   "source": [
    "import xml.etree.ElementTree as ET\n",
    "import re\n",
    "\n",
    "import matplotlib.pyplot as plt\n",
    "\n",
    "svg_path = \"data/02.svg\"\n",
    "\n",
    "from IPython.display import SVG, display\n",
    "\n",
    "# Display the SVG in small window\n",
    "# display(SVG(filename=svg_path))"
   ]
  },
  {
   "cell_type": "code",
   "execution_count": 27,
   "metadata": {},
   "outputs": [],
   "source": [
    "def extract_shapes_from_svg(root):\n",
    "    # Namespace handling\n",
    "    ns = {'svg': 'http://www.w3.org/2000/svg'}\n",
    "\n",
    "    # Step 1: Extract styles from <style> tag\n",
    "    style_text = root.find(\".//svg:style\", ns).text\n",
    "\n",
    "    # Parse class styles\n",
    "    style_dict = {}\n",
    "    for match in re.finditer(r'\\.(\\w+)\\s*{\\s*fill:\\s*(#[0-9a-fA-F]+);', style_text):\n",
    "        class_name, fill_color = match.groups()\n",
    "        style_dict[class_name] = fill_color\n",
    "\n",
    "    # Step 2: Extract all shape elements\n",
    "    shape_data = []\n",
    "\n",
    "    for elem in root.findall(\".//svg:*\", ns):\n",
    "        tag = elem.tag.split('}')[-1]  # strip namespace\n",
    "        if tag in {\"rect\", \"polygon\"}:\n",
    "            class_name = elem.attrib.get(\"class\")\n",
    "            style = style_dict.get(class_name, None)\n",
    "            shape_info = {\n",
    "                \"tag\": tag,\n",
    "                \"class\": class_name,\n",
    "                \"style\": style,\n",
    "                \"attributes\": elem.attrib,\n",
    "                \"element\": elem\n",
    "                \n",
    "            }\n",
    "            shape_data.append(shape_info)\n",
    "\n",
    "    return shape_data\n",
    "\n",
    "\n",
    "\n",
    "def extract_styles_from_svg(root):\n",
    "    \"\"\"\n",
    "    Extract style information from an SVG root element.\n",
    "    Returns a dictionary mapping class names to fill colors.\n",
    "    \"\"\"\n",
    "    # Namespace (required for SVG parsing)\n",
    "    ns = {'svg': 'http://www.w3.org/2000/svg'}\n",
    "\n",
    "    # Find the <style> tag\n",
    "    style_element = root.find(\".//svg:style\", ns)\n",
    "    style_text = style_element.text if style_element is not None else \"\"\n",
    "\n",
    "    # Clean and extract styles from the CSS block\n",
    "    style_dict = {}\n",
    "    matches = re.findall(r'\\.(cls-\\d+)\\s*{\\s*fill:\\s*(#[0-9a-fA-F]+);', style_text)\n",
    "\n",
    "    for class_name, fill_color in matches:\n",
    "        style_dict[class_name] = fill_color\n",
    "\n",
    "    return style_dict\n"
   ]
  },
  {
   "cell_type": "code",
   "execution_count": 41,
   "metadata": {},
   "outputs": [],
   "source": [
    "import xml.etree.ElementTree as ET\n",
    "\n",
    "def get_rect_center(attrib):\n",
    "    x = float(attrib.get(\"x\", 0))\n",
    "    y = float(attrib.get(\"y\", 0))\n",
    "    w = float(attrib[\"width\"])\n",
    "    h = float(attrib[\"height\"])\n",
    "    return x + w / 2, y + h / 2\n",
    "\n",
    "def get_polygon_centroid(points_str):\n",
    "    nums = list(map(float, points_str.strip().split()))\n",
    "    if len(nums) % 2 != 0:\n",
    "        raise ValueError(\"Odd number of coordinates in polygon points.\")\n",
    "    \n",
    "    points = list(zip(nums[::2], nums[1::2]))  # Pair x, y\n",
    "    x_vals, y_vals = zip(*points)\n",
    "    return sum(x_vals) / len(x_vals), sum(y_vals) / len(y_vals)\n",
    "\n",
    "def add_number_labels_to_svg(root, shapes, style_dict):\n",
    "    ns = {'svg': 'http://www.w3.org/2000/svg'}\n",
    "    ET.register_namespace('', ns['svg'])  # ensure output has correct namespace\n",
    "\n",
    "    # Create style mapping from values to numbers\n",
    "    style_mapping = {key: str(i) for i, key in enumerate(style_dict.keys())}\n",
    "\n",
    "    for idx, shape in enumerate(shapes):\n",
    "        tag = shape['tag']\n",
    "        attrib = shape['attributes']\n",
    "\n",
    "        if tag == \"rect\":\n",
    "            cx, cy = get_rect_center(attrib)\n",
    "        elif tag == \"polygon\":\n",
    "            cx, cy = get_polygon_centroid(attrib[\"points\"])\n",
    "        else:\n",
    "            print(f\"Skipping unknown shape type: {tag}\")\n",
    "            continue\n",
    "\n",
    "        # Create a new <text> element\n",
    "        text_elem = ET.Element(\"text\", {\n",
    "            \"x\": str(cx),\n",
    "            \"y\": str(cy),\n",
    "            \"font-size\": \"24\",\n",
    "            \"fill\": \"black\",\n",
    "            \"text-anchor\": \"middle\",\n",
    "            \"dominant-baseline\": \"central\"\n",
    "        })\n",
    "        text_elem.text = style_mapping[shape['attributes']['class']]\n",
    "\n",
    "        root.append(text_elem)  # You could also insert after the original shape\n",
    "\n",
    "    return root\n",
    "\n",
    "def outline_shapes_for_paint_by_numbers(shapes):\n",
    "    for shape in shapes:\n",
    "        elem = shape['element']\n",
    "\n",
    "        # Remove 'class' attribute\n",
    "        elem.attrib.pop('class', None)\n",
    "\n",
    "        # Set stroke and remove fill\n",
    "        elem.attrib['fill'] = 'white'\n",
    "        elem.attrib['stroke'] = 'black'\n",
    "        elem.attrib['stroke-width'] = '1'"
   ]
  },
  {
   "cell_type": "code",
   "execution_count": 43,
   "metadata": {},
   "outputs": [],
   "source": [
    "# Load and parse the SVG file\n",
    "tree = ET.parse(svg_path)\n",
    "root = tree.getroot()\n",
    "\n",
    "# Extract styles and shapes from the SVG\n",
    "style_dict = extract_styles_from_svg(root)\n",
    "shapes = extract_shapes_from_svg(root)\n",
    "\n",
    "# Modify SVG in-place\n",
    "add_number_labels_to_svg(root, shapes, style_dict)\n",
    "outline_shapes_for_paint_by_numbers(shapes)  # no assignment!\n",
    "\n",
    "# Save modified SVG\n",
    "tree.write(\"labeled_output.svg\", encoding=\"utf-8\", xml_declaration=True)"
   ]
  },
  {
   "cell_type": "code",
   "execution_count": 30,
   "metadata": {},
   "outputs": [
    {
     "data": {
      "text/plain": [
       "{'cls-1': '#60924a',\n",
       " 'cls-2': '#263776',\n",
       " 'cls-3': '#f3e0b6',\n",
       " 'cls-4': '#df804b'}"
      ]
     },
     "execution_count": 30,
     "metadata": {},
     "output_type": "execute_result"
    }
   ],
   "source": [
    "style_dict"
   ]
  },
  {
   "cell_type": "code",
   "execution_count": 31,
   "metadata": {},
   "outputs": [
    {
     "name": "stdout",
     "output_type": "stream",
     "text": [
      "{'tag': 'rect', 'class': 'cls-0', 'style': None, 'attributes': {'class': 'cls-2', 'y': '562.14', 'width': '283.3', 'height': '171.86', 'stroke': 'black', 'stroke-width': '1'}, 'element': <Element '{http://www.w3.org/2000/svg}rect' at 0x0000018CA0AE58F0>}\n",
      "{'tag': 'rect', 'class': 'cls-0', 'style': None, 'attributes': {'class': 'cls-4', 'x': '.57', 'y': '391.44', 'width': '283.3', 'height': '171.86', 'stroke': 'black', 'stroke-width': '1'}, 'element': <Element '{http://www.w3.org/2000/svg}rect' at 0x0000018CA0AE6160>}\n",
      "{'tag': 'rect', 'class': 'cls-0', 'style': None, 'attributes': {'class': 'cls-3', 'y': '171.11', 'width': '283.3', 'height': '222.29', 'stroke': 'black', 'stroke-width': '1'}, 'element': <Element '{http://www.w3.org/2000/svg}rect' at 0x0000018CA0AE61B0>}\n",
      "{'tag': 'rect', 'class': 'cls-0', 'style': None, 'attributes': {'class': 'cls-4', 'width': '283.3', 'height': '171.86', 'stroke': 'black', 'stroke-width': '1'}, 'element': <Element '{http://www.w3.org/2000/svg}rect' at 0x0000018CA0AE5170>}\n",
      "{'tag': 'rect', 'class': 'cls-0', 'style': None, 'attributes': {'class': 'cls-3', 'x': '283.06', 'y': '561.66', 'width': '283.3', 'height': '171.44', 'stroke': 'black', 'stroke-width': '1'}, 'element': <Element '{http://www.w3.org/2000/svg}rect' at 0x0000018CA0AE6250>}\n",
      "{'tag': 'rect', 'class': 'cls-0', 'style': None, 'attributes': {'class': 'cls-1', 'x': '283.63', 'y': '391.38', 'width': '283.3', 'height': '171.44', 'stroke': 'black', 'stroke-width': '1'}, 'element': <Element '{http://www.w3.org/2000/svg}rect' at 0x0000018CA0AE60C0>}\n",
      "{'tag': 'rect', 'class': 'cls-0', 'style': None, 'attributes': {'class': 'cls-2', 'x': '283.06', 'y': '171.6', 'width': '283.3', 'height': '221.75', 'stroke': 'black', 'stroke-width': '1'}, 'element': <Element '{http://www.w3.org/2000/svg}rect' at 0x0000018CA0AE6110>}\n",
      "{'tag': 'rect', 'class': 'cls-0', 'style': None, 'attributes': {'class': 'cls-3', 'x': '283.06', 'y': '.9', 'width': '283.3', 'height': '171.44', 'stroke': 'black', 'stroke-width': '1'}, 'element': <Element '{http://www.w3.org/2000/svg}rect' at 0x0000018CA0AE69D0>}\n",
      "{'tag': 'polygon', 'class': 'cls-0', 'style': None, 'attributes': {'class': 'cls-1', 'points': '292.03 538.35 179.81 425.27 37.59 497.06 110.45 355.39 -1.78 242.32 155.48 267.83 228.34 126.16 252.67 283.6 409.92 309.11 267.7 380.9 292.03 538.35', 'stroke': 'black', 'stroke-width': '1'}, 'element': <Element '{http://www.w3.org/2000/svg}polygon' at 0x0000018CA0AE5080>}\n"
     ]
    }
   ],
   "source": [
    "for shape in shapes:\n",
    "    print(shape)"
   ]
  },
  {
   "cell_type": "code",
   "execution_count": 14,
   "metadata": {},
   "outputs": [
    {
     "data": {
      "text/plain": [
       "<Element '{http://www.w3.org/2000/svg}svg' at 0x0000018CA0457510>"
      ]
     },
     "execution_count": 14,
     "metadata": {},
     "output_type": "execute_result"
    }
   ],
   "source": [
    "root."
   ]
  },
  {
   "cell_type": "code",
   "execution_count": null,
   "metadata": {},
   "outputs": [],
   "source": []
  }
 ],
 "metadata": {
  "kernelspec": {
   "display_name": ".venv",
   "language": "python",
   "name": "python3"
  },
  "language_info": {
   "codemirror_mode": {
    "name": "ipython",
    "version": 3
   },
   "file_extension": ".py",
   "mimetype": "text/x-python",
   "name": "python",
   "nbconvert_exporter": "python",
   "pygments_lexer": "ipython3",
   "version": "3.12.2"
  }
 },
 "nbformat": 4,
 "nbformat_minor": 2
}
